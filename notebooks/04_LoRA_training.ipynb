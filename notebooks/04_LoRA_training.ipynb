{
 "cells": [
  {
   "cell_type": "markdown",
   "id": "b18ce1df",
   "metadata": {},
   "source": [
    "# Notebook 04: LoRA Fine Tuning\n",
    "\n",
    "- Train LoRA adaptors "
   ]
  },
  {
   "cell_type": "code",
   "execution_count": 1,
   "id": "54535e9d",
   "metadata": {},
   "outputs": [
    {
     "name": "stdout",
     "output_type": "stream",
     "text": [
      "/mnt/d/Study/Python Scripts/scimilarity-finetune\n"
     ]
    }
   ],
   "source": [
    "!pwd"
   ]
  },
  {
   "cell_type": "markdown",
   "id": "9f57a786",
   "metadata": {},
   "source": [
    "# Imports"
   ]
  },
  {
   "cell_type": "code",
   "execution_count": 2,
   "id": "76cbfa5b",
   "metadata": {},
   "outputs": [
    {
     "name": "stdout",
     "output_type": "stream",
     "text": [
      "2025-10-20 04:58:55 | logger_config.py:get_logger:41 | INFO | Logger initialized successfully.\n",
      "2025-10-20 04:58:55 | logger_config.py:get_logger:41 | INFO | Logger initialized successfully.\n"
     ]
    }
   ],
   "source": [
    "import torch\n",
    "import torch.nn as nn\n",
    "from torch.utils.data import DataLoader, Dataset\n",
    "import scanpy as sc\n",
    "import numpy as np\n",
    "from matplotlib import pyplot as plt\n",
    "import pandas as pd\n",
    "from sklearn.preprocessing import LabelEncoder\n",
    "from sklearn.neighbors import KNeighborsClassifier\n",
    "from sklearn.metrics import accuracy_score, f1_score\n",
    "from tqdm import tqdm\n",
    "import joblib\n",
    "import scipy.sparse as sp\n",
    "import os\n",
    "from datetime import datetime\n",
    "from scimilarity.nn_models import Encoder, Decoder\n",
    "from tqdm import tqdm\n",
    "from scimilarity.triplet_selector import TripletSelector\n",
    "import torch.nn.functional as F\n",
    "from app.utils import load_preprocessed_data, load_artifacts\n",
    "from app.model.wrapper import load_encoder, load_decoder, load_lora_encoder\n",
    "from app.logger_config import get_logger\n",
    "logger = get_logger()\n",
    "\n",
    "# Display settings\n",
    "pd.set_option('display.max_columns', None)\n",
    "pd.set_option('display.max_colwidth', None)\n"
   ]
  },
  {
   "cell_type": "markdown",
   "id": "360f0e67",
   "metadata": {},
   "source": [
    "# Load processed datasets and artifacts"
   ]
  },
  {
   "cell_type": "code",
   "execution_count": 3,
   "id": "ce4400da",
   "metadata": {},
   "outputs": [
    {
     "name": "stdout",
     "output_type": "stream",
     "text": [
      "2025-10-20 04:59:00 | utils.py:load_artifacts:165 | INFO | ✅ Loaded LabelEncoder, gene order, and scaling stats.\n",
      "2025-10-20 04:59:00 | 4123527393.py:<module>:3 | INFO | number of cell types: 14\n",
      "2025-10-20 04:59:00 | 4123527393.py:<module>:11 | INFO | Sample int2label:, [(0, 'GABAergic neuron'), (1, 'T cell'), (2, 'astrocyte'), (3, 'capillary endothelial cell'), (4, 'endothelial cell of artery')]\n"
     ]
    }
   ],
   "source": [
    "label_encoder, _, _, _ = load_artifacts()\n",
    "num_classes = len(label_encoder.classes_)\n",
    "logger.info(f\"number of cell types: {num_classes}\")\n",
    "\n",
    "# String label → integer\n",
    "label2int = {label: i for i, label in enumerate(label_encoder.classes_)}\n",
    "\n",
    "# Integer → string label\n",
    "int2label = {i: label for i, label in enumerate(label_encoder.classes_)}\n",
    "\n",
    "logger.info(f\"Sample int2label:, {list(int2label.items())[:5]}\")"
   ]
  },
  {
   "cell_type": "code",
   "execution_count": 4,
   "id": "530df1d4",
   "metadata": {},
   "outputs": [
    {
     "name": "stdout",
     "output_type": "stream",
     "text": [
      "2025-10-20 04:59:50 | utils.py:load_preprocessed_data:62 | INFO | Train: (14000, 31460), Val: (3000, 31460), Test: (3000, 31460)\n",
      "2025-10-20 04:59:50 | utils.py:load_artifacts:165 | INFO | ✅ Loaded LabelEncoder, gene order, and scaling stats.\n",
      "2025-10-20 04:59:51 | 2481640480.py:<module>:7 | INFO | Features (xb) shape: torch.Size([1024, 31460])\n",
      "2025-10-20 04:59:51 | 2481640480.py:<module>:8 | INFO | Labels (yb) shape: torch.Size([1024])\n",
      "2025-10-20 04:59:51 | 2481640480.py:<module>:9 | INFO | Features dtype: torch.float32\n",
      "2025-10-20 04:59:51 | 2481640480.py:<module>:10 | INFO | Labels dtype: torch.int64\n",
      "2025-10-20 04:59:51 | 2481640480.py:<module>:13 | INFO | First cell features (first 5 genes): tensor([0., 0., 0., 0., 0.])\n",
      "2025-10-20 04:59:51 | 2481640480.py:<module>:14 | INFO | First cell label (encoded): 8\n",
      "2025-10-20 04:59:51 | 2481640480.py:<module>:15 | INFO | First cell label (decoded): oligodendrocyte\n"
     ]
    }
   ],
   "source": [
    "train_loader, val_loader, test_loader = load_preprocessed_data()\n",
    "\n",
    "\n",
    "# Inspect a single batch\n",
    "xb, yb = next(iter(test_loader))\n",
    "\n",
    "logger.info(f\"Features (xb) shape: {xb.shape}\")  # [batch_size, num_genes]\n",
    "logger.info(f\"Labels (yb) shape: {yb.shape}\")    # [batch_size]\n",
    "logger.info(f\"Features dtype: {xb.dtype}\")\n",
    "logger.info(f\"Labels dtype: {yb.dtype}\")\n",
    "\n",
    "# Optional: see first 5 values of first cell\n",
    "logger.info(f\"First cell features (first 5 genes): {xb[0, :5]}\")\n",
    "logger.info(f\"First cell label (encoded): {yb[0]}\")\n",
    "logger.info(f\"First cell label (decoded): {label_encoder.inverse_transform([yb[0].item()])[0]}\")"
   ]
  },
  {
   "cell_type": "code",
   "execution_count": 5,
   "id": "f8eef61e",
   "metadata": {},
   "outputs": [
    {
     "data": {
      "text/plain": [
       "device(type='cpu')"
      ]
     },
     "execution_count": 5,
     "metadata": {},
     "output_type": "execute_result"
    }
   ],
   "source": [
    "device = torch.device(\"cuda\" if torch.cuda.is_available() else \"cpu\")\n",
    "device"
   ]
  },
  {
   "cell_type": "markdown",
   "id": "89391732",
   "metadata": {},
   "source": [
    "# Load lora encoder and decoder"
   ]
  },
  {
   "cell_type": "code",
   "execution_count": 7,
   "id": "6facd3af",
   "metadata": {},
   "outputs": [
    {
     "name": "stdout",
     "output_type": "stream",
     "text": [
      "2025-10-20 05:00:09 | 3468877492.py:<module>:3 | INFO | Number of genes (input features): 31460\n"
     ]
    }
   ],
   "source": [
    "n_genes = xb.shape[1]\n",
    "hidden_dim = 1024\n",
    "logger.info(f\"Number of genes (input features): {n_genes}\")"
   ]
  },
  {
   "cell_type": "code",
   "execution_count": 8,
   "id": "7566dcf7",
   "metadata": {},
   "outputs": [],
   "source": [
    "decoder = load_decoder(n_genes)"
   ]
  },
  {
   "cell_type": "code",
   "execution_count": 9,
   "id": "95df9fc7",
   "metadata": {},
   "outputs": [],
   "source": [
    "encoder_lora = load_lora_encoder(n_genes=n_genes, hidden_dim=hidden_dim)"
   ]
  },
  {
   "cell_type": "code",
   "execution_count": 10,
   "id": "50cfcbb4",
   "metadata": {},
   "outputs": [
    {
     "name": "stdout",
     "output_type": "stream",
     "text": [
      "2025-10-20 05:00:18 | 2957559303.py:<module>:21 | INFO | Encoder (33,971,906) + Decoder (33,432,294) total params: 67,404,200\n",
      "2025-10-20 05:00:18 | 2957559303.py:<module>:22 | INFO | Trainable params (LoRA only): 570,944\n",
      "2025-10-20 05:00:18 | 2957559303.py:<module>:23 | INFO | Percentage of trainable params: 0.85%\n"
     ]
    }
   ],
   "source": [
    "# Helper function to count parameters\n",
    "def count_params(model):\n",
    "    total = sum(p.numel() for p in model.parameters())\n",
    "    trainable = sum(p.numel() for p in model.parameters() if p.requires_grad)\n",
    "    pct_trainable = 100 * trainable / total\n",
    "    return total, trainable, pct_trainable\n",
    "\n",
    "# Count params for encoder (LoRA) and decoder (frozen)\n",
    "total_encoder, trainable_encoder, _ = count_params(encoder_lora)\n",
    "total_decoder, trainable_decoder, _ = count_params(decoder)  # usually frozen\n",
    "\n",
    "# Total params (encoder + decoder)\n",
    "total_params = total_encoder + total_decoder\n",
    "\n",
    "# Total trainable params (LoRA only)\n",
    "trainable_params = trainable_encoder\n",
    "\n",
    "# Percentage of trainable params\n",
    "pct_trainable = 100 * trainable_params / total_params\n",
    "\n",
    "logger.info(f\"Encoder ({total_encoder:,}) + Decoder ({total_decoder:,}) total params: {total_params:,}\")\n",
    "logger.info(f\"Trainable params (LoRA only): {trainable_params:,}\")\n",
    "logger.info(f\"Percentage of trainable params: {pct_trainable:.2f}%\")"
   ]
  },
  {
   "cell_type": "code",
   "execution_count": 11,
   "id": "76696799",
   "metadata": {},
   "outputs": [
    {
     "data": {
      "text/plain": [
       "device(type='cpu')"
      ]
     },
     "execution_count": 11,
     "metadata": {},
     "output_type": "execute_result"
    }
   ],
   "source": [
    "device"
   ]
  },
  {
   "cell_type": "code",
   "execution_count": 13,
   "id": "90785967",
   "metadata": {},
   "outputs": [
    {
     "name": "stderr",
     "output_type": "stream",
     "text": [
      "Epoch 1/25:   0%|                                                                                    | 0/14 [00:00<?, ?it/s]"
     ]
    },
    {
     "name": "stderr",
     "output_type": "stream",
     "text": [
      "Epoch 1/25: 100%|███████████████████████████████████████████████████████████████████████████| 14/14 [00:36<00:00,  2.62s/it]\n"
     ]
    },
    {
     "name": "stdout",
     "output_type": "stream",
     "text": [
      "\n",
      "Epoch [1/25]\n",
      "  Train Triplet Loss: 0.3104, Recon Loss: 0.6834\n",
      "  Val   Triplet Loss: 0.0855, Recon Loss: 0.1806\n",
      "  Train Acc: 56.91 %, F1: 0.5729\n",
      "  Val   Acc: 17.80 %, F1: 0.1440\n",
      "  ✅ Saved LoRA weights to weights/lora/20251020_050117/lora_epoch1.pt\n",
      "\n"
     ]
    },
    {
     "name": "stderr",
     "output_type": "stream",
     "text": [
      "Epoch 2/25: 100%|███████████████████████████████████████████████████████████████████████████| 14/14 [00:34<00:00,  2.50s/it]\n"
     ]
    },
    {
     "name": "stdout",
     "output_type": "stream",
     "text": [
      "\n",
      "Epoch [2/25]\n",
      "  Train Triplet Loss: 0.2697, Recon Loss: 0.6630\n",
      "  Val   Triplet Loss: 0.1091, Recon Loss: 0.1823\n",
      "  Train Acc: 64.10 %, F1: 0.6394\n",
      "  Val   Acc: 27.27 %, F1: 0.2545\n",
      "  ✅ Saved LoRA weights to weights/lora/20251020_050117/lora_epoch2.pt\n",
      "\n"
     ]
    },
    {
     "name": "stderr",
     "output_type": "stream",
     "text": [
      "Epoch 3/25: 100%|███████████████████████████████████████████████████████████████████████████| 14/14 [00:33<00:00,  2.42s/it]\n"
     ]
    },
    {
     "name": "stdout",
     "output_type": "stream",
     "text": [
      "\n",
      "Epoch [3/25]\n",
      "  Train Triplet Loss: 0.1971, Recon Loss: 0.6516\n",
      "  Val   Triplet Loss: 0.0980, Recon Loss: 0.1820\n",
      "  Train Acc: 73.17 %, F1: 0.7277\n",
      "  Val   Acc: 45.03 %, F1: 0.4267\n",
      "  ✅ Saved LoRA weights to weights/lora/20251020_050117/lora_epoch3.pt\n",
      "\n"
     ]
    },
    {
     "name": "stderr",
     "output_type": "stream",
     "text": [
      "Epoch 4/25: 100%|███████████████████████████████████████████████████████████████████████████| 14/14 [00:34<00:00,  2.45s/it]\n"
     ]
    },
    {
     "name": "stdout",
     "output_type": "stream",
     "text": [
      "\n",
      "Epoch [4/25]\n",
      "  Train Triplet Loss: 0.1229, Recon Loss: 0.6414\n",
      "  Val   Triplet Loss: 0.0954, Recon Loss: 0.1804\n",
      "  Train Acc: 75.59 %, F1: 0.7493\n",
      "  Val   Acc: 50.27 %, F1: 0.4673\n",
      "  ✅ Saved LoRA weights to weights/lora/20251020_050117/lora_epoch4.pt\n",
      "\n"
     ]
    },
    {
     "name": "stderr",
     "output_type": "stream",
     "text": [
      "Epoch 5/25: 100%|███████████████████████████████████████████████████████████████████████████| 14/14 [00:36<00:00,  2.59s/it]\n"
     ]
    },
    {
     "name": "stdout",
     "output_type": "stream",
     "text": [
      "\n",
      "Epoch [5/25]\n",
      "  Train Triplet Loss: 0.0933, Recon Loss: 0.6315\n",
      "  Val   Triplet Loss: 0.0864, Recon Loss: 0.1785\n",
      "  Train Acc: 77.58 %, F1: 0.7699\n",
      "  Val   Acc: 50.13 %, F1: 0.4618\n",
      "  ✅ Saved LoRA weights to weights/lora/20251020_050117/lora_epoch5.pt\n",
      "\n"
     ]
    },
    {
     "name": "stderr",
     "output_type": "stream",
     "text": [
      "Epoch 6/25: 100%|███████████████████████████████████████████████████████████████████████████| 14/14 [00:34<00:00,  2.44s/it]\n"
     ]
    },
    {
     "name": "stdout",
     "output_type": "stream",
     "text": [
      "\n",
      "Epoch [6/25]\n",
      "  Train Triplet Loss: 0.0711, Recon Loss: 0.6251\n",
      "  Val   Triplet Loss: 0.0652, Recon Loss: 0.1772\n",
      "  Train Acc: 77.71 %, F1: 0.7720\n",
      "  Val   Acc: 53.17 %, F1: 0.4957\n",
      "  ✅ Saved LoRA weights to weights/lora/20251020_050117/lora_epoch6.pt\n",
      "\n"
     ]
    },
    {
     "name": "stderr",
     "output_type": "stream",
     "text": [
      "Epoch 7/25: 100%|███████████████████████████████████████████████████████████████████████████| 14/14 [00:33<00:00,  2.41s/it]\n"
     ]
    },
    {
     "name": "stdout",
     "output_type": "stream",
     "text": [
      "\n",
      "Epoch [7/25]\n",
      "  Train Triplet Loss: 0.0574, Recon Loss: 0.6222\n",
      "  Val   Triplet Loss: 0.0490, Recon Loss: 0.1773\n",
      "  Train Acc: 78.88 %, F1: 0.7844\n",
      "  Val   Acc: 55.33 %, F1: 0.5159\n",
      "  ✅ Saved LoRA weights to weights/lora/20251020_050117/lora_epoch7.pt\n",
      "\n"
     ]
    },
    {
     "name": "stderr",
     "output_type": "stream",
     "text": [
      "Epoch 8/25: 100%|███████████████████████████████████████████████████████████████████████████| 14/14 [00:34<00:00,  2.45s/it]\n"
     ]
    },
    {
     "name": "stdout",
     "output_type": "stream",
     "text": [
      "\n",
      "Epoch [8/25]\n",
      "  Train Triplet Loss: 0.0491, Recon Loss: 0.6206\n",
      "  Val   Triplet Loss: 0.0419, Recon Loss: 0.1769\n",
      "  Train Acc: 79.50 %, F1: 0.7905\n",
      "  Val   Acc: 56.73 %, F1: 0.5309\n",
      "  ✅ Saved LoRA weights to weights/lora/20251020_050117/lora_epoch8.pt\n",
      "\n"
     ]
    },
    {
     "name": "stderr",
     "output_type": "stream",
     "text": [
      "Epoch 9/25: 100%|███████████████████████████████████████████████████████████████████████████| 14/14 [00:33<00:00,  2.42s/it]\n"
     ]
    },
    {
     "name": "stdout",
     "output_type": "stream",
     "text": [
      "\n",
      "Epoch [9/25]\n",
      "  Train Triplet Loss: 0.0397, Recon Loss: 0.6194\n",
      "  Val   Triplet Loss: 0.0353, Recon Loss: 0.1766\n",
      "  Train Acc: 80.27 %, F1: 0.7990\n",
      "  Val   Acc: 57.33 %, F1: 0.5425\n",
      "  ✅ Saved LoRA weights to weights/lora/20251020_050117/lora_epoch9.pt\n",
      "\n"
     ]
    },
    {
     "name": "stderr",
     "output_type": "stream",
     "text": [
      "Epoch 10/25: 100%|██████████████████████████████████████████████████████████████████████████| 14/14 [00:34<00:00,  2.45s/it]\n"
     ]
    },
    {
     "name": "stdout",
     "output_type": "stream",
     "text": [
      "\n",
      "Epoch [10/25]\n",
      "  Train Triplet Loss: 0.0359, Recon Loss: 0.6189\n",
      "  Val   Triplet Loss: 0.0311, Recon Loss: 0.1764\n",
      "  Train Acc: 80.44 %, F1: 0.8002\n",
      "  Val   Acc: 56.63 %, F1: 0.5349\n",
      "  ✅ Saved LoRA weights to weights/lora/20251020_050117/lora_epoch10.pt\n",
      "\n"
     ]
    },
    {
     "name": "stderr",
     "output_type": "stream",
     "text": [
      "Epoch 11/25: 100%|██████████████████████████████████████████████████████████████████████████| 14/14 [00:34<00:00,  2.46s/it]\n"
     ]
    },
    {
     "name": "stdout",
     "output_type": "stream",
     "text": [
      "\n",
      "Epoch [11/25]\n",
      "  Train Triplet Loss: 0.0331, Recon Loss: 0.6185\n",
      "  Val   Triplet Loss: 0.0338, Recon Loss: 0.1766\n",
      "  Train Acc: 81.04 %, F1: 0.8066\n",
      "  Val   Acc: 58.47 %, F1: 0.5553\n",
      "  ✅ Saved LoRA weights to weights/lora/20251020_050117/lora_epoch11.pt\n",
      "\n"
     ]
    },
    {
     "name": "stderr",
     "output_type": "stream",
     "text": [
      "Epoch 12/25: 100%|██████████████████████████████████████████████████████████████████████████| 14/14 [00:33<00:00,  2.43s/it]\n"
     ]
    },
    {
     "name": "stdout",
     "output_type": "stream",
     "text": [
      "\n",
      "Epoch [12/25]\n",
      "  Train Triplet Loss: 0.0302, Recon Loss: 0.6185\n",
      "  Val   Triplet Loss: 0.0268, Recon Loss: 0.1763\n",
      "  Train Acc: 80.98 %, F1: 0.8056\n",
      "  Val   Acc: 57.20 %, F1: 0.5412\n",
      "  ✅ Saved LoRA weights to weights/lora/20251020_050117/lora_epoch12.pt\n",
      "\n"
     ]
    },
    {
     "name": "stderr",
     "output_type": "stream",
     "text": [
      "Epoch 13/25: 100%|██████████████████████████████████████████████████████████████████████████| 14/14 [00:34<00:00,  2.44s/it]\n"
     ]
    },
    {
     "name": "stdout",
     "output_type": "stream",
     "text": [
      "\n",
      "Epoch [13/25]\n",
      "  Train Triplet Loss: 0.0277, Recon Loss: 0.6182\n",
      "  Val   Triplet Loss: 0.0256, Recon Loss: 0.1762\n",
      "  Train Acc: 81.75 %, F1: 0.8136\n",
      "  Val   Acc: 57.40 %, F1: 0.5421\n",
      "  ✅ Saved LoRA weights to weights/lora/20251020_050117/lora_epoch13.pt\n",
      "\n"
     ]
    },
    {
     "name": "stderr",
     "output_type": "stream",
     "text": [
      "Epoch 14/25: 100%|██████████████████████████████████████████████████████████████████████████| 14/14 [00:34<00:00,  2.45s/it]\n"
     ]
    },
    {
     "name": "stdout",
     "output_type": "stream",
     "text": [
      "\n",
      "Epoch [14/25]\n",
      "  Train Triplet Loss: 0.0267, Recon Loss: 0.6177\n",
      "  Val   Triplet Loss: 0.0253, Recon Loss: 0.1763\n",
      "  Train Acc: 82.14 %, F1: 0.8185\n",
      "  Val   Acc: 57.57 %, F1: 0.5461\n",
      "  ✅ Saved LoRA weights to weights/lora/20251020_050117/lora_epoch14.pt\n",
      "\n"
     ]
    },
    {
     "name": "stderr",
     "output_type": "stream",
     "text": [
      "Epoch 15/25: 100%|██████████████████████████████████████████████████████████████████████████| 14/14 [00:33<00:00,  2.42s/it]\n"
     ]
    },
    {
     "name": "stdout",
     "output_type": "stream",
     "text": [
      "\n",
      "Epoch [15/25]\n",
      "  Train Triplet Loss: 0.0261, Recon Loss: 0.6181\n",
      "  Val   Triplet Loss: 0.0266, Recon Loss: 0.1762\n",
      "  Train Acc: 81.93 %, F1: 0.8158\n",
      "  Val   Acc: 57.90 %, F1: 0.5524\n",
      "  ✅ Saved LoRA weights to weights/lora/20251020_050117/lora_epoch15.pt\n",
      "\n"
     ]
    },
    {
     "name": "stderr",
     "output_type": "stream",
     "text": [
      "Epoch 16/25: 100%|██████████████████████████████████████████████████████████████████████████| 14/14 [00:33<00:00,  2.42s/it]\n"
     ]
    },
    {
     "name": "stdout",
     "output_type": "stream",
     "text": [
      "\n",
      "Epoch [16/25]\n",
      "  Train Triplet Loss: 0.0245, Recon Loss: 0.6180\n",
      "  Val   Triplet Loss: 0.0221, Recon Loss: 0.1762\n",
      "  Train Acc: 82.16 %, F1: 0.8177\n",
      "  Val   Acc: 59.17 %, F1: 0.5629\n",
      "  ✅ Saved LoRA weights to weights/lora/20251020_050117/lora_epoch16.pt\n",
      "\n"
     ]
    },
    {
     "name": "stderr",
     "output_type": "stream",
     "text": [
      "Epoch 17/25: 100%|██████████████████████████████████████████████████████████████████████████| 14/14 [00:35<00:00,  2.54s/it]\n"
     ]
    },
    {
     "name": "stdout",
     "output_type": "stream",
     "text": [
      "\n",
      "Epoch [17/25]\n",
      "  Train Triplet Loss: 0.0217, Recon Loss: 0.6181\n",
      "  Val   Triplet Loss: 0.0216, Recon Loss: 0.1762\n",
      "  Train Acc: 82.75 %, F1: 0.8246\n",
      "  Val   Acc: 58.93 %, F1: 0.5617\n",
      "  ✅ Saved LoRA weights to weights/lora/20251020_050117/lora_epoch17.pt\n",
      "\n"
     ]
    },
    {
     "name": "stderr",
     "output_type": "stream",
     "text": [
      "Epoch 18/25: 100%|██████████████████████████████████████████████████████████████████████████| 14/14 [00:34<00:00,  2.47s/it]\n"
     ]
    },
    {
     "name": "stdout",
     "output_type": "stream",
     "text": [
      "\n",
      "Epoch [18/25]\n",
      "  Train Triplet Loss: 0.0248, Recon Loss: 0.6181\n",
      "  Val   Triplet Loss: 0.0205, Recon Loss: 0.1762\n",
      "  Train Acc: 83.31 %, F1: 0.8301\n",
      "  Val   Acc: 59.17 %, F1: 0.5674\n",
      "  ✅ Saved LoRA weights to weights/lora/20251020_050117/lora_epoch18.pt\n",
      "\n"
     ]
    },
    {
     "name": "stderr",
     "output_type": "stream",
     "text": [
      "Epoch 19/25: 100%|██████████████████████████████████████████████████████████████████████████| 14/14 [00:34<00:00,  2.43s/it]\n"
     ]
    },
    {
     "name": "stdout",
     "output_type": "stream",
     "text": [
      "\n",
      "Epoch [19/25]\n",
      "  Train Triplet Loss: 0.0218, Recon Loss: 0.6176\n",
      "  Val   Triplet Loss: 0.0201, Recon Loss: 0.1762\n",
      "  Train Acc: 83.59 %, F1: 0.8332\n",
      "  Val   Acc: 59.60 %, F1: 0.5728\n",
      "  ✅ Saved LoRA weights to weights/lora/20251020_050117/lora_epoch19.pt\n",
      "\n"
     ]
    },
    {
     "name": "stderr",
     "output_type": "stream",
     "text": [
      "Epoch 20/25: 100%|██████████████████████████████████████████████████████████████████████████| 14/14 [00:33<00:00,  2.42s/it]\n"
     ]
    },
    {
     "name": "stdout",
     "output_type": "stream",
     "text": [
      "\n",
      "Epoch [20/25]\n",
      "  Train Triplet Loss: 0.0217, Recon Loss: 0.6175\n",
      "  Val   Triplet Loss: 0.0186, Recon Loss: 0.1763\n",
      "  Train Acc: 83.61 %, F1: 0.8333\n",
      "  Val   Acc: 61.67 %, F1: 0.5938\n",
      "  ✅ Saved LoRA weights to weights/lora/20251020_050117/lora_epoch20.pt\n",
      "\n"
     ]
    },
    {
     "name": "stderr",
     "output_type": "stream",
     "text": [
      "Epoch 21/25: 100%|██████████████████████████████████████████████████████████████████████████| 14/14 [00:33<00:00,  2.42s/it]\n"
     ]
    },
    {
     "name": "stdout",
     "output_type": "stream",
     "text": [
      "\n",
      "Epoch [21/25]\n",
      "  Train Triplet Loss: 0.0203, Recon Loss: 0.6176\n",
      "  Val   Triplet Loss: 0.0182, Recon Loss: 0.1762\n",
      "  Train Acc: 83.81 %, F1: 0.8353\n",
      "  Val   Acc: 61.93 %, F1: 0.5951\n",
      "  ✅ Saved LoRA weights to weights/lora/20251020_050117/lora_epoch21.pt\n",
      "\n"
     ]
    },
    {
     "name": "stderr",
     "output_type": "stream",
     "text": [
      "Epoch 22/25: 100%|██████████████████████████████████████████████████████████████████████████| 14/14 [00:33<00:00,  2.41s/it]\n"
     ]
    },
    {
     "name": "stdout",
     "output_type": "stream",
     "text": [
      "\n",
      "Epoch [22/25]\n",
      "  Train Triplet Loss: 0.0208, Recon Loss: 0.6180\n",
      "  Val   Triplet Loss: 0.0170, Recon Loss: 0.1762\n",
      "  Train Acc: 84.39 %, F1: 0.8410\n",
      "  Val   Acc: 61.30 %, F1: 0.5875\n",
      "  ✅ Saved LoRA weights to weights/lora/20251020_050117/lora_epoch22.pt\n",
      "\n"
     ]
    },
    {
     "name": "stderr",
     "output_type": "stream",
     "text": [
      "Epoch 23/25: 100%|██████████████████████████████████████████████████████████████████████████| 14/14 [00:33<00:00,  2.38s/it]\n"
     ]
    },
    {
     "name": "stdout",
     "output_type": "stream",
     "text": [
      "\n",
      "Epoch [23/25]\n",
      "  Train Triplet Loss: 0.0191, Recon Loss: 0.6178\n",
      "  Val   Triplet Loss: 0.0168, Recon Loss: 0.1762\n",
      "  Train Acc: 84.66 %, F1: 0.8442\n",
      "  Val   Acc: 62.23 %, F1: 0.5996\n",
      "  ✅ Saved LoRA weights to weights/lora/20251020_050117/lora_epoch23.pt\n",
      "\n"
     ]
    },
    {
     "name": "stderr",
     "output_type": "stream",
     "text": [
      "Epoch 24/25: 100%|██████████████████████████████████████████████████████████████████████████| 14/14 [00:33<00:00,  2.37s/it]\n"
     ]
    },
    {
     "name": "stdout",
     "output_type": "stream",
     "text": [
      "\n",
      "Epoch [24/25]\n",
      "  Train Triplet Loss: 0.0198, Recon Loss: 0.6178\n",
      "  Val   Triplet Loss: 0.0162, Recon Loss: 0.1761\n",
      "  Train Acc: 85.36 %, F1: 0.8513\n",
      "  Val   Acc: 62.27 %, F1: 0.5976\n",
      "  ✅ Saved LoRA weights to weights/lora/20251020_050117/lora_epoch24.pt\n",
      "\n"
     ]
    },
    {
     "name": "stderr",
     "output_type": "stream",
     "text": [
      "Epoch 25/25: 100%|██████████████████████████████████████████████████████████████████████████| 14/14 [00:33<00:00,  2.42s/it]\n"
     ]
    },
    {
     "name": "stdout",
     "output_type": "stream",
     "text": [
      "\n",
      "Epoch [25/25]\n",
      "  Train Triplet Loss: 0.0189, Recon Loss: 0.6179\n",
      "  Val   Triplet Loss: 0.0166, Recon Loss: 0.1762\n",
      "  Train Acc: 85.74 %, F1: 0.8550\n",
      "  Val   Acc: 61.30 %, F1: 0.5846\n",
      "  ✅ Saved LoRA weights to weights/lora/20251020_050117/lora_epoch25.pt\n",
      "\n"
     ]
    }
   ],
   "source": [
    "\n",
    "# --- 1️⃣ Custom Triplet Selector (non-batch version) ---\n",
    "class CustomTripletSelector:\n",
    "    def __init__(self, margin=0.05):\n",
    "        self.margin = margin\n",
    "\n",
    "    def get_triplets_idx(self, embeddings, labels):\n",
    "        \"\"\"Generate triplet indices (anchor, positive, negative) for all embeddings.\"\"\"\n",
    "        embeddings = embeddings.cpu()\n",
    "        labels = labels.cpu()\n",
    "        n = len(labels)\n",
    "        anchor_idx, pos_idx, neg_idx = [], [], []\n",
    "\n",
    "        # Compute pairwise distances\n",
    "        dist_matrix = torch.cdist(embeddings, embeddings, p=2)\n",
    "\n",
    "        for i in range(n):\n",
    "            label = labels[i]\n",
    "            pos_mask = (labels == label) & (torch.arange(n) != i)\n",
    "            neg_mask = labels != label\n",
    "\n",
    "            if not pos_mask.any() or not neg_mask.any():\n",
    "                continue\n",
    "\n",
    "            pos_dists = dist_matrix[i][pos_mask]\n",
    "            neg_dists = dist_matrix[i][neg_mask]\n",
    "\n",
    "            # Semi-hard negative selection: d(a,n) > d(a,p) and within margin\n",
    "            pos_dist = torch.min(pos_dists)\n",
    "            neg_candidates = torch.where((neg_dists > pos_dist) & (neg_dists < pos_dist + self.margin))[0]\n",
    "\n",
    "            if len(neg_candidates) > 0:\n",
    "                neg_idx_sel = neg_candidates[torch.randint(0, len(neg_candidates), (1,))].item()\n",
    "            else:\n",
    "                # fallback: hardest negative\n",
    "                neg_idx_sel = torch.argmin(neg_dists).item()\n",
    "\n",
    "            pos_idx_sel = torch.where(pos_mask)[0][torch.randint(0, pos_mask.sum(), (1,))].item()\n",
    "\n",
    "            anchor_idx.append(i)\n",
    "            pos_idx.append(pos_idx_sel)\n",
    "            neg_idx.append(neg_idx_sel)\n",
    "\n",
    "        return torch.tensor(anchor_idx), torch.tensor(pos_idx), torch.tensor(neg_idx)\n",
    "\n",
    "# --- 2️⃣ Hyperparameters ---\n",
    "lr = 1e-3\n",
    "num_epochs = 25\n",
    "margin = 0.05\n",
    "triplet_selector = CustomTripletSelector(margin=margin)\n",
    "\n",
    "# --- 3️⃣ Optimizer: only LoRA params ---\n",
    "optimizer = torch.optim.AdamW(filter(lambda p: p.requires_grad, encoder_lora.parameters()), lr=lr)\n",
    "\n",
    "# --- 4️⃣ Save directory ---\n",
    "timestamp = datetime.now().strftime(\"%Y%m%d_%H%M%S\")\n",
    "save_dir = f\"weights/lora/{timestamp}\"\n",
    "os.makedirs(save_dir, exist_ok=True)\n",
    "\n",
    "\n",
    "train_triplet_losses, train_recon_losses = [], []\n",
    "val_triplet_losses, val_recon_losses = [], []\n",
    "\n",
    "# --- Training Loop ---\n",
    "for epoch in range(num_epochs):\n",
    "    encoder_lora.train()\n",
    "    total_triplet_loss = 0.0\n",
    "    total_recon_loss = 0.0\n",
    "\n",
    "    for xb, yb in tqdm(train_loader, desc=f\"Epoch {epoch+1}/{num_epochs}\"):\n",
    "        xb = xb.to(device)\n",
    "        yb = yb.to(device)\n",
    "\n",
    "        # Forward\n",
    "        emb = encoder_lora(xb)\n",
    "        xb_recon = decoder(emb)\n",
    "\n",
    "        # Triplets\n",
    "        a_idx, p_idx, n_idx = triplet_selector.get_triplets_idx(emb.detach(), yb.detach())\n",
    "        if len(a_idx) == 0:\n",
    "            continue\n",
    "\n",
    "        anchor = emb[a_idx]\n",
    "        positive = emb[p_idx]\n",
    "        negative = emb[n_idx]\n",
    "        triplet_loss_fn = torch.nn.TripletMarginLoss(margin=margin, reduction=\"mean\")\n",
    "        loss_triplet = triplet_loss_fn(anchor, positive, negative)\n",
    "        loss_recon = F.mse_loss(xb_recon, xb)\n",
    "        loss = loss_triplet + loss_recon\n",
    "\n",
    "        optimizer.zero_grad()\n",
    "        loss.backward()\n",
    "        optimizer.step()\n",
    "\n",
    "        total_triplet_loss += loss_triplet.item()\n",
    "        total_recon_loss += loss_recon.item()\n",
    "\n",
    "    # --- 1️⃣ Validation & Embeddings ---\n",
    "    encoder_lora.eval()\n",
    "    def get_embeddings_and_labels(loader):\n",
    "        all_emb, all_lbl = [], []\n",
    "        total_triplet, total_recon = 0.0, 0.0\n",
    "        with torch.no_grad():\n",
    "            for xb, yb in loader:\n",
    "                xb = xb.to(device)\n",
    "                yb = yb.to(device)\n",
    "\n",
    "                emb = encoder_lora(xb)\n",
    "                xb_recon = decoder(emb)\n",
    "\n",
    "                # Triplets\n",
    "                a_idx, p_idx, n_idx = triplet_selector.get_triplets_idx(emb, yb)\n",
    "                if len(a_idx) > 0:\n",
    "                    anchor = emb[a_idx]\n",
    "                    positive = emb[p_idx]\n",
    "                    negative = emb[n_idx]\n",
    "                    loss_triplet = triplet_loss_fn(anchor, positive, negative)\n",
    "                    loss_recon = F.mse_loss(xb_recon, xb)\n",
    "                    total_triplet += loss_triplet.item()\n",
    "                    total_recon += loss_recon.item()\n",
    "\n",
    "                all_emb.append(emb.cpu())\n",
    "                all_lbl.append(yb.cpu())\n",
    "\n",
    "        return torch.cat(all_emb), torch.cat(all_lbl), total_triplet, total_recon\n",
    "\n",
    "    train_emb, train_lbl, train_triplet_val, train_recon_val = get_embeddings_and_labels(train_loader)\n",
    "    val_emb, val_lbl, val_triplet_loss, val_recon_loss = get_embeddings_and_labels(val_loader)\n",
    "\n",
    "    # --- 2️⃣ KNN evaluation ---\n",
    "    from sklearn.neighbors import KNeighborsClassifier\n",
    "    from sklearn.metrics import accuracy_score, f1_score\n",
    "\n",
    "    knn = KNeighborsClassifier(n_neighbors=5)\n",
    "    knn.fit(train_emb, train_lbl)\n",
    "\n",
    "    train_pred = knn.predict(train_emb)\n",
    "    val_pred = knn.predict(val_emb)\n",
    "\n",
    "    train_acc = accuracy_score(train_lbl, train_pred) * 100\n",
    "    val_acc = accuracy_score(val_lbl, val_pred) * 100\n",
    "    train_f1 = f1_score(train_lbl, train_pred, average=\"weighted\")\n",
    "    val_f1 = f1_score(val_lbl, val_pred, average=\"weighted\")\n",
    "\n",
    "    avg_train_triplet = total_triplet_loss / len(train_loader)\n",
    "    avg_train_recon = total_recon_loss / len(train_loader)\n",
    "    avg_val_triplet = val_triplet_loss / len(val_loader)\n",
    "    avg_val_recon = val_recon_loss / len(val_loader)\n",
    "\n",
    "    # --- 3️⃣ Print Stats ---\n",
    "    print(f\"\\nEpoch [{epoch+1}/{num_epochs}]\")\n",
    "    print(f\"  Train Triplet Loss: {avg_train_triplet:.4f}, Recon Loss: {avg_train_recon:.4f}\")\n",
    "    print(f\"  Val   Triplet Loss: {avg_val_triplet:.4f}, Recon Loss: {avg_val_recon:.4f}\")\n",
    "    print(f\"  Train Acc: {train_acc:.2f} %, F1: {train_f1:.4f}\")\n",
    "    print(f\"  Val   Acc: {val_acc:.2f} %, F1: {val_f1:.4f}\")\n",
    "\n",
    "    # --- Save losses for plotting ---\n",
    "    train_triplet_losses.append(avg_train_triplet)\n",
    "    train_recon_losses.append(avg_train_recon)\n",
    "    val_triplet_losses.append(avg_val_triplet)\n",
    "    val_recon_losses.append(avg_val_recon)\n",
    "\n",
    "    # --- 4️⃣ Save LoRA weights only ---\n",
    "    lora_weights = {k: v.cpu() for k, v in encoder_lora.lora_params.items()}\n",
    "    torch.save(lora_weights, os.path.join(save_dir, f\"lora_epoch{epoch+1}.pt\"))\n",
    "    print(f\"  ✅ Saved LoRA weights to {save_dir}/lora_epoch{epoch+1}.pt\\n\")\n",
    "\n"
   ]
  },
  {
   "cell_type": "code",
   "execution_count": 17,
   "id": "e44f0216",
   "metadata": {},
   "outputs": [
    {
     "data": {
      "image/png": "[encoded data removed]",
      "text/plain": [
       "<Figure size 800x600 with 1 Axes>"
      ]
     },
     "metadata": {},
     "output_type": "display_data"
    }
   ],
   "source": [
    "# --- Plot losses ---\n",
    "plt.figure(figsize=(8, 6))\n",
    "epochs = range(1, len(train_triplet_losses) + 1)\n",
    "plt.plot(epochs, train_triplet_losses, label=\"Train Triplet Loss\", marker='o')\n",
    "plt.plot(epochs, val_triplet_losses, label=\"Val Triplet Loss\", marker='o')\n",
    "plt.plot(epochs, train_recon_losses, label=\"Train Reconstruction Loss\", linestyle=\"--\", marker='s')\n",
    "plt.plot(epochs, val_recon_losses, label=\"Val Reconstruction Loss\", linestyle=\"--\", marker='s')\n",
    "\n",
    "plt.xlabel(\"Epoch\")\n",
    "plt.ylabel(\"Loss\")\n",
    "plt.title(\"Training & Validation Loss Curves\")\n",
    "plt.legend()\n",
    "plt.grid(True)\n",
    "plt.tight_layout()\n",
    "plt.show()"
   ]
  },
  {
   "cell_type": "markdown",
   "id": "d4f74762",
   "metadata": {},
   "source": [
    "# **Observations**\n",
    "\n",
    "- **Train Triplet Loss**:\n",
    "\n",
    "  - Starts around **0.3** and decreases rapidly within the first **5 epochs**.\n",
    "  - Continues to decrease smoothly and plateaus near **0.02** after about **10 epochs**.\n",
    "  - Indicates good convergence and stable training.\n",
    "\n",
    "- **Validation Triplet Loss**:\n",
    "\n",
    "  - Follows a similar decreasing trend as the training loss.\n",
    "  - Shows **no signs of overfitting** (no divergence between train and val losses).\n",
    "\n",
    "- **Train Reconstruction Loss**:\n",
    "\n",
    "  - Starts around **0.68** and decreases slightly to about **0.62**, then stabilizes.\n",
    "  - The small reduction suggests the reconstruction part of the model is not learning much after early epochs.\n",
    "\n",
    "- **Validation Reconstruction Loss**:\n",
    "\n",
    "  - Remains almost constant around **0.18**, indicating stability but possibly limited generalization improvement.\n"
   ]
  },
  {
   "cell_type": "markdown",
   "id": "99054512",
   "metadata": {},
   "source": [
    "# **Conclusions**\n",
    "\n",
    "- The **triplet loss component** shows strong and smooth convergence, the model is effectively learning discriminative embeddings.\n",
    "- The **reconstruction loss** plateaus early, indicating that the reconstruction task might have reached its capacity or is less dominant in the training objective.\n",
    "- There is **no visible overfitting** in both training and validation losses are aligned and stable after ~10 epochs.\n",
    "- After **10th** epoch, both training and validation triplet losses have converged and show minimal improvement.\n",
    "- So, we will use **10th** epoch model for inference\n"
   ]
  },
  {
   "cell_type": "code",
   "execution_count": null,
   "id": "3168e84b",
   "metadata": {},
   "outputs": [],
   "source": []
  }
 ],
 "metadata": {
  "kernelspec": {
   "display_name": "Python 3 (ipykernel)",
   "language": "python",
   "name": "python3"
  },
  "language_info": {
   "codemirror_mode": {
    "name": "ipython",
    "version": 3
   },
   "file_extension": ".py",
   "mimetype": "text/x-python",
   "name": "python",
   "nbconvert_exporter": "python",
   "pygments_lexer": "ipython3",
   "version": "3.12.12"
  }
 },
 "nbformat": 4,
 "nbformat_minor": 5
}
