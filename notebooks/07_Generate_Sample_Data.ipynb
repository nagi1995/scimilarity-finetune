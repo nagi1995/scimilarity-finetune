{
 "cells": [
  {
   "cell_type": "code",
   "execution_count": null,
   "id": "24b26814",
   "metadata": {},
   "outputs": [],
   "source": [
    "import torch\n",
    "from torch.utils.data import DataLoader, Dataset\n",
    "import scanpy as sc\n",
    "import torch.nn.functional as F\n",
    "from torch.utils.data import DataLoader\n",
    "import joblib\n",
    "import numpy as np\n",
    "import pandas as pd\n",
    "from matplotlib import pyplot as plt\n",
    "import seaborn as sns\n",
    "from tqdm import tqdm\n",
    "from sklearn.neighbors import KNeighborsClassifier\n",
    "from sklearn.metrics import accuracy_score, f1_score, ConfusionMatrixDisplay, confusion_matrix\n",
    "from peft import get_peft_model, LoraConfig, TaskType, PeftModel, PeftConfig, LoraModel\n",
    "from tqdm import tqdm\n",
    "from scimilarity.nn_models import Encoder, Decoder\n",
    "import os\n",
    "import json\n",
    "\n",
    "from app.utils import load_preprocessed_data, load_artifacts, compute_embeddings, evaluate_knn\n",
    "from app.model.wrapper import load_encoder, load_decoder, load_lora_encoder\n",
    "from app.logger_config import get_logger\n",
    "logger = get_logger()\n",
    "\n",
    "# Device setup\n",
    "device = torch.device(\"cuda\" if torch.cuda.is_available() else \"cpu\")\n",
    "\n",
    "ARTIFACTS_DIR = \"artifacts\"\n",
    "# Display settings\n",
    "pd.set_option('display.max_columns', None)\n",
    "pd.set_option('display.max_colwidth', None)"
   ]
  },
  {
   "cell_type": "code",
   "execution_count": null,
   "id": "7d525a9c",
   "metadata": {},
   "outputs": [
    {
     "name": "stdout",
     "output_type": "stream",
     "text": [
      "Loaded raw data: 65479 cells x 31460 genes\n"
     ]
    }
   ],
   "source": [
    "\n",
    "# ----------------- CONFIG -----------------\n",
    "RAW_DATA_PATH = \"data/raw/dataset.h5ad\"\n",
    "SAMPLE_SIZE = 10  # number of cells to sample\n",
    "# ------------------------------------------\n",
    "\n",
    "# 1️⃣ Load raw dataset\n",
    "adata = sc.read_h5ad(RAW_DATA_PATH)\n",
    "print(f\"Loaded raw data: {adata.shape[0]} cells x {adata.shape[1]} genes\")\n",
    "\n",
    "# 2️⃣ Get gene names from AnnData\n",
    "gene_order = adata.var_names.tolist()\n",
    "\n",
    "# 3️⃣ Sample N cells\n",
    "sample_indices = np.random.choice(adata.n_obs, size=SAMPLE_SIZE, replace=False)\n"
   ]
  },
  {
   "cell_type": "code",
   "execution_count": 20,
   "id": "d1ecfd3e",
   "metadata": {},
   "outputs": [
    {
     "data": {
      "text/plain": [
       "array([64405, 16320, 54512,  7774, 45822, 55116, 63988, 10211, 11982,\n",
       "       22610])"
      ]
     },
     "execution_count": 20,
     "metadata": {},
     "output_type": "execute_result"
    }
   ],
   "source": [
    "sample_indices"
   ]
  },
  {
   "cell_type": "code",
   "execution_count": 41,
   "id": "a813a917",
   "metadata": {},
   "outputs": [],
   "source": [
    "for e, idx in enumerate(sample_indices):\n",
    "    # Extract row as dense vector\n",
    "    if hasattr(adata.X[idx], \"toarray\"):  # sparse\n",
    "        expr_vec = adata.X[idx].toarray().flatten()\n",
    "    else:\n",
    "        expr_vec = np.array(adata.X[idx]).flatten()\n",
    "\n",
    "    # Map gene names to expression values\n",
    "    expr_dict = {gene: float(expr_vec[i]) for i, gene in enumerate(adata.var_names) if expr_vec[i] != 0.0}\n",
    "\n",
    "    # Save as JSON\n",
    "    json_path = os.path.join(\"data/json_samples\", f\"{e+1}.json\")\n",
    "    os.makedirs(os.path.dirname(json_path), exist_ok=True)\n",
    "    with open(json_path, \"w\") as f:\n",
    "        json.dump({\"expression\": expr_dict}, f, indent=2)"
   ]
  },
  {
   "cell_type": "code",
   "execution_count": null,
   "id": "a9a3e881",
   "metadata": {},
   "outputs": [],
   "source": []
  }
 ],
 "metadata": {
  "kernelspec": {
   "display_name": "Python 3 (ipykernel)",
   "language": "python",
   "name": "python3"
  },
  "language_info": {
   "codemirror_mode": {
    "name": "ipython",
    "version": 3
   },
   "file_extension": ".py",
   "mimetype": "text/x-python",
   "name": "python",
   "nbconvert_exporter": "python",
   "pygments_lexer": "ipython3",
   "version": "3.12.12"
  }
 },
 "nbformat": 4,
 "nbformat_minor": 5
}
